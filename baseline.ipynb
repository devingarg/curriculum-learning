{
 "cells": [
  {
   "cell_type": "code",
   "execution_count": 9,
   "id": "81825b59",
   "metadata": {},
   "outputs": [],
   "source": [
    "import os\n",
    "\n",
    "import torch\n",
    "from torchvision import datasets, models, transforms\n",
    "import torch.optim as optim\n",
    "import torch.nn as nn\n",
    "from torch.utils.data import DataLoader\n",
    "from torch.utils.tensorboard import SummaryWriter\n",
    "\n",
    "from utils.data import get_data_loaders\n",
    "from utils.train_eval import train"
   ]
  },
  {
   "cell_type": "code",
   "execution_count": 2,
   "id": "df8ec806",
   "metadata": {},
   "outputs": [
    {
     "name": "stdout",
     "output_type": "stream",
     "text": [
      "Files already downloaded and verified\n",
      "Files already downloaded and verified\n"
     ]
    }
   ],
   "source": [
    "# Either cifar10 or flowers102\n",
    "dataset = \"cifar10\"\n",
    "train_loader, test_loader, num_classes = get_data_loaders(dataset=dataset, batch_size=64, num_workers=2)"
   ]
  },
  {
   "cell_type": "code",
   "execution_count": 3,
   "id": "37650cca",
   "metadata": {},
   "outputs": [
    {
     "name": "stdout",
     "output_type": "stream",
     "text": [
      "Number of training batches: 782\n",
      "Number of testing batches: 157\n"
     ]
    }
   ],
   "source": [
    "print(f\"Number of training batches: {len(train_loader)}\")\n",
    "print(f\"Number of testing batches: {len(test_loader)}\")"
   ]
  },
  {
   "cell_type": "code",
   "execution_count": 4,
   "id": "044e6a54",
   "metadata": {},
   "outputs": [],
   "source": [
    "# the network to test\n",
    "model = models.resnet18(weights=None)\n",
    "\n",
    "learning_rate = 1e-3\n",
    "\n",
    "# Modify the last fully connected layer\n",
    "fc_input = model.fc.in_features\n",
    "model.fc = nn.Linear(fc_input, num_classes)\n",
    "\n",
    "# print(model)\n",
    "\n",
    "criterion = nn.CrossEntropyLoss()\n",
    "optimizer = optim.Adam(model.parameters(), lr=learning_rate)"
   ]
  },
  {
   "cell_type": "code",
   "execution_count": 5,
   "id": "4595ecdd",
   "metadata": {},
   "outputs": [
    {
     "name": "stdout",
     "output_type": "stream",
     "text": [
      "Number of parameters: 11181642\n"
     ]
    }
   ],
   "source": [
    "num_params = sum(torch.numel(p) for p in model.parameters())\n",
    "print(f\"Number of parameters: {num_params}\")"
   ]
  },
  {
   "cell_type": "code",
   "execution_count": 6,
   "id": "51effc07",
   "metadata": {},
   "outputs": [],
   "source": [
    "log_dir = f\"./logs/{dataset}/baseline\"  # Set the directory for storing the logs\n",
    "writer = SummaryWriter(log_dir)"
   ]
  },
  {
   "cell_type": "code",
   "execution_count": 7,
   "id": "462da800",
   "metadata": {},
   "outputs": [
    {
     "name": "stdout",
     "output_type": "stream",
     "text": [
      "[Epoch: 1, Batch: 100] Loss: 1.861\n",
      "[Epoch: 1, Batch: 200] Loss: 1.655\n",
      "[Epoch: 1, Batch: 300] Loss: 1.571\n",
      "[Epoch: 1, Batch: 400] Loss: 1.443\n",
      "[Epoch: 1, Batch: 500] Loss: 1.411\n",
      "[Epoch: 1, Batch: 600] Loss: 1.348\n",
      "[Epoch: 1, Batch: 700] Loss: 1.334\n",
      "Training finished.\n"
     ]
    }
   ],
   "source": [
    "num_epochs = 1\n",
    "device = torch.device(\"cuda\" if torch.cuda.is_available() else \"cpu\")\n",
    "\n",
    "model = model.to(device)\n",
    "\n",
    "# log every these many batches \n",
    "log_train_every = 150\n",
    "log_test_every = 250\n",
    "\n",
    "config = {\n",
    "    \"opt\": optimizer,\n",
    "    \"crit\": criterion,\n",
    "    \"log_freq_tr\": log_train_every,\n",
    "    \"log_freq_test\": log_test_every,\n",
    "}\n",
    "\n",
    "train(model, train_loader, test_loader, num_epochs, config, device, writer)"
   ]
  },
  {
   "cell_type": "code",
   "execution_count": 10,
   "id": "0e629e10",
   "metadata": {},
   "outputs": [],
   "source": [
    "ckpt_dir = os.path.join(log_dir, \"checkpoints\")\n",
    "os.makedirs(ckpt_dir, exist_ok=True)\n",
    "torch.save(model, f\"{ckpt_dir}/{num_epochs}.pth\")"
   ]
  },
  {
   "cell_type": "code",
   "execution_count": null,
   "id": "a1df4f15",
   "metadata": {},
   "outputs": [],
   "source": []
  }
 ],
 "metadata": {
  "kernelspec": {
   "display_name": "vision",
   "language": "python",
   "name": "vision"
  },
  "language_info": {
   "codemirror_mode": {
    "name": "ipython",
    "version": 3
   },
   "file_extension": ".py",
   "mimetype": "text/x-python",
   "name": "python",
   "nbconvert_exporter": "python",
   "pygments_lexer": "ipython3",
   "version": "3.10.12"
  }
 },
 "nbformat": 4,
 "nbformat_minor": 5
}
